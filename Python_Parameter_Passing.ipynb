{
 "cells": [
  {
   "cell_type": "markdown",
   "metadata": {},
   "source": [
    "# <div align=\"center\">Parameter Passing for Mutable & Immutable Objects</div>\n",
    "---------------------------------------------------------------------\n",
    "\n",
    "you can Find me on Github:\n",
    "> ###### [ GitHub](https://github.com/lev1khachatryan)"
   ]
  },
  {
   "cell_type": "markdown",
   "metadata": {},
   "source": [
    "## Parameter Passing: C vs. Python\n",
    "When we pass a variable in C, the function assigns the parameter value to a local variable and performs actions on it. This means the function reserves a memory space with the local variable name, and then stores a copy of the parameter value passed in that memory space (“pass by value”). The local variable exits the stack when the function returns, hence the need for pointers to ensure the changes made to the variable by the function persists even after the function exits (“pass by reference”).\n",
    "\n",
    "Functions in Python also assigns parameter value to a local variable, but the assignment looks much different. Instead of storing a copy of the parameter value in the local variable, Python simply has the local variable refer to the value. Recall that everything is an object in Python; this means the local variable now points to the object — the same object that is the parameter value — which is also pointed to by the parameter variable. In other words, the parameter value object can now be referred to by both the local and the parameter variables. This is similar to passing a pointer in C, as the function has direct access to the original object (not just a local copy of its value) and is able to manipulate it in place.\n",
    "\n",
    "Sounds simple, right? But things can quickly get complicated when we add on the concept of mutable/immutable objects…\n"
   ]
  },
  {
   "cell_type": "markdown",
   "metadata": {},
   "source": [
    " "
   ]
  },
  {
   "cell_type": "markdown",
   "metadata": {},
   "source": [
    "## Passing Immutable Objects"
   ]
  },
  {
   "cell_type": "code",
   "execution_count": 1,
   "metadata": {},
   "outputs": [
    {
     "name": "stdout",
     "output_type": "stream",
     "text": [
      "3\n"
     ]
    }
   ],
   "source": [
    "def increment(n):\n",
    "    n += 1\n",
    "a = 3\n",
    "increment(a)\n",
    "print(a)"
   ]
  },
  {
   "cell_type": "markdown",
   "metadata": {},
   "source": [
    "You may be wondering: if functions in Python can modify the value in place, then why is it that the value of a remains unchanged? Let’s parse this out:\n",
    "\n",
    "With a = 3, we have the variable a referring to the object with value 3:\n",
    "\n",
    "When we pass a to increment(n), the function has the local variable n referred to the same object:\n",
    "\n",
    "Now comes the interesting part: n += 1. Since integer is immutable, by definition we are not able to modify the object’s value to 4 in place: we must create a new object with the value 4.\n",
    "\n",
    "All this time, the variable a continues to refer to the object with the value 3, since we did not change the reference:\n"
   ]
  },
  {
   "cell_type": "markdown",
   "metadata": {},
   "source": [
    " "
   ]
  },
  {
   "cell_type": "markdown",
   "metadata": {},
   "source": [
    "Does that mean we will never be able to manipulate immutable objects by passing it to functions? Turns out, we can still “modify” immutable objects by capturing the return of the function."
   ]
  },
  {
   "cell_type": "code",
   "execution_count": 2,
   "metadata": {},
   "outputs": [
    {
     "name": "stdout",
     "output_type": "stream",
     "text": [
      "4\n"
     ]
    }
   ],
   "source": [
    "def increment(n):\n",
    "    n += 1\n",
    "    return n\n",
    "a = 3\n",
    "a = increment(a)  # the return value of increment() is captured!\n",
    "print(a)"
   ]
  },
  {
   "cell_type": "markdown",
   "metadata": {},
   "source": [
    "By assigning the return value of the function to a, we have reassigned a to refer to the new object with the value 4 created in the function. Note the object a initially referred to never change — it is still 3 — but by having a point to a new object created by the function, we are able to “modify” the value of a."
   ]
  },
  {
   "cell_type": "markdown",
   "metadata": {},
   "source": [
    " "
   ]
  },
  {
   "cell_type": "markdown",
   "metadata": {},
   "source": [
    " "
   ]
  },
  {
   "cell_type": "markdown",
   "metadata": {},
   "source": [
    "## Passing Mutable Objects"
   ]
  },
  {
   "cell_type": "markdown",
   "metadata": {},
   "source": [
    "The same increment() function generates a different result when we passing a mutable object:"
   ]
  },
  {
   "cell_type": "code",
   "execution_count": 3,
   "metadata": {},
   "outputs": [
    {
     "name": "stdout",
     "output_type": "stream",
     "text": [
      "[1, 2, 3, [4]]\n"
     ]
    }
   ],
   "source": [
    "def increment(n):\n",
    "    n.append([4])\n",
    "L = [1, 2, 3]\n",
    "increment(L)\n",
    "print(L)"
   ]
  },
  {
   "cell_type": "markdown",
   "metadata": {},
   "source": [
    "Let’s try another example:"
   ]
  },
  {
   "cell_type": "code",
   "execution_count": 4,
   "metadata": {},
   "outputs": [
    {
     "name": "stdout",
     "output_type": "stream",
     "text": [
      "[1, 2, 3]\n"
     ]
    }
   ],
   "source": [
    "def assign_value(n, v):\n",
    "    n = v\n",
    "L1 = [1, 2, 3]\n",
    "L2 = [4, 5, 6]\n",
    "assign_value(L1, L2)\n",
    "print(L1)"
   ]
  },
  {
   "cell_type": "markdown",
   "metadata": {},
   "source": [
    "When we pass them to assign_value(n, v), the function has n, v, refer to L1, L2 respectively:"
   ]
  },
  {
   "cell_type": "markdown",
   "metadata": {},
   "source": [
    "<img src='https://miro.medium.com/max/621/1*O_Sa4ghnXp-Mhf_AouFzcw.png'>"
   ]
  },
  {
   "cell_type": "markdown",
   "metadata": {},
   "source": [
    "However, since the function body has n = v, this reassigns n to refer to what v refers to (which is L2):"
   ]
  },
  {
   "cell_type": "markdown",
   "metadata": {},
   "source": [
    "<img src='https://miro.medium.com/max/618/1*IES2H6S2YMtygdz63du5IQ.png'>"
   ]
  },
  {
   "cell_type": "markdown",
   "metadata": {},
   "source": [
    "At the end, both n , L2, and v refer to the list [4, 5, 6], while L1 refers to [1, 2, 3]."
   ]
  },
  {
   "cell_type": "markdown",
   "metadata": {},
   "source": [
    " "
   ]
  },
  {
   "cell_type": "markdown",
   "metadata": {},
   "source": [
    " "
   ]
  },
  {
   "cell_type": "markdown",
   "metadata": {},
   "source": [
    " "
   ]
  }
 ],
 "metadata": {
  "kernelspec": {
   "display_name": "Python 3",
   "language": "python",
   "name": "python3"
  },
  "language_info": {
   "codemirror_mode": {
    "name": "ipython",
    "version": 3
   },
   "file_extension": ".py",
   "mimetype": "text/x-python",
   "name": "python",
   "nbconvert_exporter": "python",
   "pygments_lexer": "ipython3",
   "version": "3.7.3"
  }
 },
 "nbformat": 4,
 "nbformat_minor": 2
}
