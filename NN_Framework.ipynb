{
 "cells": [
  {
   "cell_type": "markdown",
   "metadata": {},
   "source": [
    "# <div align=\"center\">Deep learning Libraries /Framework</div>\n",
    "---------------------------------------------------------------------\n",
    "\n",
    "<!-- <img src='assets/NN_Frameworks/main.png'> -->\n",
    "<!-- Caffe vs Torch vs Theano vs MXNet vs infer.net vs CNTK vs Tensorflow vs Keras -->"
   ]
  },
  {
   "cell_type": "markdown",
   "metadata": {},
   "source": [
    " "
   ]
  },
  {
   "cell_type": "markdown",
   "metadata": {},
   "source": [
    " "
   ]
  },
  {
   "cell_type": "markdown",
   "metadata": {},
   "source": [
    "In this notebook, you will learn about the different libraries available to carry out deep learning tasks. Some libraries have been around for years while new library like TensorFlow has come to light in recent years.\n",
    "\n",
    "Each framework is built in a different manner for different purposes. Here, we look at the some of deep learning frameworks to give you a better idea of which framework will be the perfect fit or come handy in solving your business challenges.\n",
    "\n"
   ]
  },
  {
   "cell_type": "markdown",
   "metadata": {},
   "source": [
    " "
   ]
  },
  {
   "cell_type": "markdown",
   "metadata": {},
   "source": [
    " "
   ]
  },
  {
   "cell_type": "markdown",
   "metadata": {},
   "source": [
    " <a id=\"top\"></a> <br>\n",
    "## Notebook  Content\n",
    "[1. TensorFlow](#1)\n",
    "  \n",
    "  \n",
    "[2. Caffe](#2)\n",
    "  \n",
    "  \n",
    "[3. Microsoft Cognitive Toolkit/CNTK](#3)\n",
    "  \n",
    "  \n",
    "[4. Torch/PyTorch](#4)\n",
    "  \n",
    "  \n",
    "[5. MXNet](#5)\n",
    "  \n",
    "  \n",
    "[6. Chainer](#6)\n",
    "  \n",
    "  \n",
    "[7. Keras](#7)\n",
    "  \n",
    "  \n",
    "[8. Deeplearning4j](#8)"
   ]
  },
  {
   "cell_type": "markdown",
   "metadata": {},
   "source": [
    " "
   ]
  },
  {
   "cell_type": "markdown",
   "metadata": {},
   "source": [
    "<a id=\"1\"></a> <br>\n",
    "\n",
    "## <div align=\"center\">1. Tensorflow</div>\n",
    "---------------------------------------------------------------------\n",
    "\n",
    "[go to top](#top)"
   ]
  },
  {
   "cell_type": "markdown",
   "metadata": {},
   "source": [
    " "
   ]
  },
  {
   "cell_type": "markdown",
   "metadata": {},
   "source": [
    "TensorFlow is arguably one of the best deep learning frameworks and has been adopted by several giants such as Airbus, Twitter, IBM, and others mainly due to its highly flexible system architecture. It was released to the public in late 2015.\n",
    "\n",
    "The most well-known use case of TensorFlow has got to be Google Translate coupled with capabilities such as natural language processing, text classification/summarization, speech/image/handwriting recognition, forecasting, and tagging.\n",
    "\n",
    "TensorFlow is available on both desktop and mobile and also supports languages such as Python, C++, and R to create deep learning models along with wrapper libraries."
   ]
  },
  {
   "cell_type": "markdown",
   "metadata": {},
   "source": [
    " "
   ]
  },
  {
   "cell_type": "markdown",
   "metadata": {},
   "source": [
    "TensorFlow comes with two tools that are widely used:\n",
    "\n",
    "* TensorBoard for the effective data visualization of network modeling and performance.\n",
    "  \n",
    "  \n",
    "* TensorFlow Serving for the rapid deployment of new algorithms/experiments while retaining the same server architecture and APIs. It also provides integration with other TensorFlow models, which is different from conventional practices and can be extended to serve other model and data types.\n",
    "\n",
    "If you’re taking your first steps toward deep learning, it is a no-brainer to opt for TensorFlow given that is Python-based, is supported by Google, and comes loaded with documentation and walkthroughs to guide you."
   ]
  },
  {
   "cell_type": "markdown",
   "metadata": {},
   "source": [
    " "
   ]
  },
  {
   "cell_type": "markdown",
   "metadata": {},
   "source": [
    " "
   ]
  },
  {
   "cell_type": "markdown",
   "metadata": {},
   "source": [
    " "
   ]
  },
  {
   "cell_type": "markdown",
   "metadata": {},
   "source": [
    "<a id=\"2\"></a> <br>\n",
    "\n",
    "## <div align=\"center\">2. Caffe</div>\n",
    "---------------------------------------------------------------------\n",
    "\n",
    "[go to top](#top)"
   ]
  },
  {
   "cell_type": "markdown",
   "metadata": {},
   "source": [
    " "
   ]
  },
  {
   "cell_type": "markdown",
   "metadata": {},
   "source": [
    "Caffe is a library built by Yangqing Jia when he was a PhD student at Berkeley. Caffe is written in C++ and can perform computation on both CPU and GPU. The primary uses of Caffe is Convolutional Neural Network. Although, In 2017, Facebook extended Caffe with more deep learning architecture, including Recurrent Neural Network. caffe is used by academics and startups but also some large companies like Yahoo!.\n",
    "\n",
    "Caffe is supported with interfaces like C, C++, Python, and MATLAB as well as the command line interface. It is well known for its speed and transposability and its applicability in modeling convolution neural networks (CNN). The biggest benefit of using Caffe’s C++ library (comes with a Python interface) is the ability to access available networks from the deep net repository Caffe Model Zoo that are pre-trained and can be used immediately. When it comes to modeling CNNs or solving image processing issues, this should be your go-to library.\n",
    "\n",
    "Caffe’s biggest USP is speed. It can process over 60 million images on a daily basis with a single Nvidia K40 GPU. That’s 1 ms/image for inference and 4 ms/image for learning — and more recent library versions are faster still."
   ]
  },
  {
   "cell_type": "markdown",
   "metadata": {},
   "source": [
    " "
   ]
  },
  {
   "cell_type": "markdown",
   "metadata": {},
   "source": [
    " "
   ]
  },
  {
   "cell_type": "markdown",
   "metadata": {},
   "source": [
    " "
   ]
  },
  {
   "cell_type": "markdown",
   "metadata": {},
   "source": [
    "<a id=\"3\"></a> <br>\n",
    "\n",
    "## <div align=\"center\">3. Microsoft Cognitive Toolkit/CNTK</div>\n",
    "---------------------------------------------------------------------\n",
    "\n",
    "[go to top](#top)"
   ]
  },
  {
   "cell_type": "markdown",
   "metadata": {},
   "source": [
    " "
   ]
  },
  {
   "cell_type": "markdown",
   "metadata": {},
   "source": [
    "Popularly known for easy training and the combination of popular model types across servers, the Microsoft Cognitive Toolkit (previously known as CNTK) is an open-source deep learning framework to train deep learning models. It performs efficient convolution neural networks and training for image, speech, and text-based data. Similar to Caffe, it is supported by interfaces such as Python, C++, and the command line interface. Microsoft is using it extensively for its product like Skype, Cortana, Bing, and Xbox.\n",
    "\n",
    "Given its coherent use of resources, the implementation of reinforcement learning models or generative adversarial networks (GANs) can be done easily using the toolkit. It is known to provide higher performance and scalability as compared to toolkits like Theano or TensorFlow while operating on multiple machines.\n",
    "\n",
    "Compared to Caffe, when it comes to inventing new complex layer types, users don’t need to implement them in a low-level language due to the fine granularity of the building blocks. The Microsoft Cognitive Toolkit supports both RNN and CNN types of neural models and thus is capable of handling images, handwriting, and speech recognition problems. Currently, due to the lack of support on ARM architecture, its capabilities on mobile are fairly limited."
   ]
  },
  {
   "cell_type": "markdown",
   "metadata": {},
   "source": [
    " "
   ]
  },
  {
   "cell_type": "markdown",
   "metadata": {},
   "source": [
    " "
   ]
  },
  {
   "cell_type": "markdown",
   "metadata": {},
   "source": [
    " "
   ]
  },
  {
   "cell_type": "markdown",
   "metadata": {},
   "source": [
    "<a id=\"4\"></a> <br>\n",
    "\n",
    "## <div align=\"center\">4. Torch/PyTorch</div>\n",
    "---------------------------------------------------------------------\n",
    "\n",
    "[go to top](#top)"
   ]
  },
  {
   "cell_type": "markdown",
   "metadata": {},
   "source": [
    " "
   ]
  },
  {
   "cell_type": "markdown",
   "metadata": {},
   "source": [
    "Torch is a scientific computing framework that offers wide support for machine learning algorithms. It is a Lua-based deep learning framework and is used widely amongst industry giants such as Facebook, Twitter, and Google. It employs CUDA along with C/C++ libraries for processing and was basically made to scale the production of building models and provide overall flexibility.\n",
    "\n",
    "As of late, PyTorch has seen a high level of adoption within the deep learning framework community and is considered to be a competitor to TensorFlow. PyTorch is basically a port to the Torch deep learning framework used for constructing deep neural networks and executing tensor computations that are high in terms of complexity.\n",
    "\n",
    "As opposed to Torch, PyTorch runs on Python, which means that anyone with a basic understanding of Python can get started on building their own deep learning models.\n",
    "\n",
    "Given PyTorch framework’s architectural style, the entire deep modeling process is far simpler as well as transparent compared to Torch.\n",
    "\n"
   ]
  },
  {
   "cell_type": "markdown",
   "metadata": {},
   "source": [
    " "
   ]
  },
  {
   "cell_type": "markdown",
   "metadata": {},
   "source": [
    " "
   ]
  },
  {
   "cell_type": "markdown",
   "metadata": {},
   "source": [
    " "
   ]
  },
  {
   "cell_type": "markdown",
   "metadata": {},
   "source": [
    "<a id=\"5\"></a> <br>\n",
    "\n",
    "## <div align=\"center\">5. MXNet</div>\n",
    "---------------------------------------------------------------------\n",
    "\n",
    "[go to top](#top)"
   ]
  },
  {
   "cell_type": "markdown",
   "metadata": {},
   "source": [
    " "
   ]
  },
  {
   "cell_type": "markdown",
   "metadata": {},
   "source": [
    "Designed specifically for the purpose of high efficiency, productivity, and flexibility, MXNet(pronounced as mix-net) is a deep learning framework supported by Python, R, C++, and Julia.\n",
    "\n",
    "The beauty of MXNet is that it gives the user the ability to code in a variety of programming languages. This means that you can train your deep learning models with whichever language you are comfortable in without having to learn something new from scratch. With the backend written in C++ and CUDA, MXNet is able to scale and work with a myriad of GPUs, which makes it indispensable to enterprises. Case in point: Amazon employed MXNet as its reference library for deep learning.\n",
    "\n",
    "MXNet supports long short-term memory (LTSM) networks along with both RNNs and CNNs.\n",
    "\n",
    "This deep learning framework is known for its capabilities in imaging, handwriting/speech recognition, forecasting, and NLP."
   ]
  },
  {
   "cell_type": "markdown",
   "metadata": {},
   "source": [
    " "
   ]
  },
  {
   "cell_type": "markdown",
   "metadata": {},
   "source": [
    " "
   ]
  },
  {
   "cell_type": "markdown",
   "metadata": {},
   "source": [
    " "
   ]
  },
  {
   "cell_type": "markdown",
   "metadata": {},
   "source": [
    "<a id=\"6\"></a> <br>\n",
    "\n",
    "## <div align=\"center\">6. Chainer</div>\n",
    "---------------------------------------------------------------------\n",
    "\n",
    "[go to top](#top)"
   ]
  },
  {
   "cell_type": "markdown",
   "metadata": {},
   "source": [
    " "
   ]
  },
  {
   "cell_type": "markdown",
   "metadata": {},
   "source": [
    "Highly powerful, dynamic and intuitive, Chainer is a Python-based deep learning framework for neural networks that is designed by the run strategy. Compared to other frameworks that use the same strategy, you can modify the networks during runtime, allowing you to execute arbitrary control flow statements.\n",
    "\n",
    "Chainer supports both CUDA computation along with multi-GPU. This deep learning framework is utilized mainly for sentiment analysis, machine translation, speech recognition, etc. using RNNs and CNNs."
   ]
  },
  {
   "cell_type": "markdown",
   "metadata": {},
   "source": [
    " "
   ]
  },
  {
   "cell_type": "markdown",
   "metadata": {},
   "source": [
    " "
   ]
  },
  {
   "cell_type": "markdown",
   "metadata": {},
   "source": [
    " "
   ]
  },
  {
   "cell_type": "markdown",
   "metadata": {},
   "source": [
    "<a id=\"7\"></a> <br>\n",
    "\n",
    "## <div align=\"center\">7. Keras</div>\n",
    "---------------------------------------------------------------------\n",
    "\n",
    "[go to top](#top)"
   ]
  },
  {
   "cell_type": "markdown",
   "metadata": {},
   "source": [
    " "
   ]
  },
  {
   "cell_type": "markdown",
   "metadata": {},
   "source": [
    "Well known for being minimalistic, the Keras neural network library (with a supporting interface of Python) supports both convolutional and recurrent networks that are capable of running on either TensorFlow or Theano. The library is written in Python and was developed keeping quick experimentation as its USP.\n",
    "\n",
    "Due to the fact that the TensorFlow interface is a tad bit challenging coupled with the fact that it is a low-level library that can be intricate for new users, Keras was built to provide a simplistic interface for the purpose of quick prototyping by constructing effective neural networks that can work with TensorFlow.\n",
    "\n",
    "Lightweight, easy to use, and really straightforward when it comes to building a deep learning model by stacking multiple layers: that is Keras in a nutshell. These are the very reasons why Keras is a part of TensorFlow’s core API.\n",
    "\n",
    "The primary usage of Keras is in classification, text generation and summarization, tagging, and translation, along with speech recognition and more. If you happen to be a developer with some experience in Python and wish to dive into deep learning, Keras is something you should definitely check out."
   ]
  },
  {
   "cell_type": "markdown",
   "metadata": {},
   "source": [
    " "
   ]
  },
  {
   "cell_type": "markdown",
   "metadata": {},
   "source": [
    " "
   ]
  },
  {
   "cell_type": "markdown",
   "metadata": {},
   "source": [
    " "
   ]
  },
  {
   "cell_type": "markdown",
   "metadata": {},
   "source": [
    "<a id=\"8\"></a> <br>\n",
    "\n",
    "## <div align=\"center\">8. Deeplearning4j</div>\n",
    "---------------------------------------------------------------------\n",
    "\n",
    "[go to top](#top)"
   ]
  },
  {
   "cell_type": "markdown",
   "metadata": {},
   "source": [
    " "
   ]
  },
  {
   "cell_type": "markdown",
   "metadata": {},
   "source": [
    "Parallel training through iterative reduce, microservice architecture adaptation, and distributed CPUs and GPUs are some of the salient features of the Deeplearning4j deep learning framework. It is developed in Java as well as Scala and supports other JVM languages, too.\n",
    "\n",
    "Widely adopted as a commercial, industry-focused distributed deep learning platform, the biggest advantage of this deep learning framework is that you can bring together the entire Java ecosystem to execute deep learning. It can also be administered on top of Hadoop and Spark to orchestrate multiple host threads. DL4J uses MapReduce to train the network while depending on other libraries to execute large matrix operations.\n",
    "\n",
    "Deeplearning4j comes with a deep network support through RBM, DBN, convolution neural networks (CNNs), recurrent neural networks (RNNs), recursive neural tensor networks (RNTNs), and long short-term memory (LTSM).\n",
    "\n",
    "Since this deep learning framework is implemented in Java, it is much more efficient compared to Python. When it comes to image recognition tasks using multiple GPUs, it is as fast as Caffe. This framework shows matchless potential for image recognition, fraud detection, text mining, parts-of-speech tagging, and natural language processing.\n",
    "\n",
    "With Java as your core programming language, you should certainly opt for this deep learning framework if you’re looking for a robust and effective method of deploying your deep learning models to production."
   ]
  },
  {
   "cell_type": "markdown",
   "metadata": {},
   "source": [
    " "
   ]
  },
  {
   "cell_type": "markdown",
   "metadata": {},
   "source": [
    " "
   ]
  },
  {
   "cell_type": "markdown",
   "metadata": {},
   "source": [
    " "
   ]
  },
  {
   "cell_type": "markdown",
   "metadata": {},
   "source": [
    " "
   ]
  }
 ],
 "metadata": {
  "kernelspec": {
   "display_name": "Python 3",
   "language": "python",
   "name": "python3"
  },
  "language_info": {
   "codemirror_mode": {
    "name": "ipython",
    "version": 3
   },
   "file_extension": ".py",
   "mimetype": "text/x-python",
   "name": "python",
   "nbconvert_exporter": "python",
   "pygments_lexer": "ipython3",
   "version": "3.7.3"
  }
 },
 "nbformat": 4,
 "nbformat_minor": 2
}
